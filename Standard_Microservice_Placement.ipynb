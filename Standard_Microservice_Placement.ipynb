{
  "nbformat": 4,
  "nbformat_minor": 0,
  "metadata": {
    "colab": {
      "provenance": [],
      "mount_file_id": "1gmmas4oZWyUDE7Sl3zqljRJ-EEFcGba-",
      "authorship_tag": "ABX9TyOEW72rQ1EEUBdlms6ky3Ua",
      "include_colab_link": true
    },
    "kernelspec": {
      "name": "python3",
      "display_name": "Python 3"
    },
    "language_info": {
      "name": "python"
    }
  },
  "cells": [
    {
      "cell_type": "markdown",
      "metadata": {
        "id": "view-in-github",
        "colab_type": "text"
      },
      "source": [
        "<a href=\"https://colab.research.google.com/github/GArdennes/Research-Studies/blob/main/Standard_Microservice_Placement.ipynb\" target=\"_parent\"><img src=\"https://colab.research.google.com/assets/colab-badge.svg\" alt=\"Open In Colab\"/></a>"
      ]
    },
    {
      "cell_type": "code",
      "execution_count": null,
      "metadata": {
        "id": "qtvm9nBPe84M"
      },
      "outputs": [],
      "source": [
        "#Import modules\n",
        "from typing import List, Dict, Union\n",
        "import time\n",
        "import networkx as nx\n",
        "from matplotlib import pyplot as plt\n",
        "import numpy as np\n",
        "import random\n",
        "import pandas as pd"
      ]
    },
    {
      "cell_type": "code",
      "source": [
        "#initialize variables and inputs\n",
        "num_microservices = 4\n",
        "microservices = [\n",
        "    {\"name\": \"microservice1\", \"ram\": 512, \"input\": 256, \"output\": 256, \"cpu\": 50},\n",
        "    {\"name\": \"microservice2\", \"ram\": 1024, \"input\": 512, \"output\": 512, \"cpu\": 100},\n",
        "    {\"name\": \"microservice3\", \"ram\": 2048, \"input\": 1024, \"output\": 1024, \"cpu\": 200},\n",
        "    {\"name\": \"microservice4\", \"ram\": 4096, \"input\": 2048, \"output\": 2048, \"cpu\": 400},\n",
        "]\n",
        "\n",
        "num_applications = 1\n",
        "\n",
        "num_edge_nodes = 4\n",
        "edge_nodes = [\n",
        "    {\"name\": \"edge_node1\", \"speed\": 100, \"ram\": 2048, \"uplink\": 512, \"downlink\": 512, \"busy_power\": 100, \"idle_power\": 50, \"cpu\": 1000},\n",
        "    {\"name\": \"edge_node2\", \"speed\": 200, \"ram\": 4096, \"uplink\": 1024, \"downlink\": 1024, \"busy_power\": 150, \"idle_power\": 75, \"cpu\": 2000},\n",
        "    {\"name\": \"edge_node3\", \"speed\": 300, \"ram\": 8192, \"uplink\": 2048, \"downlink\": 2048, \"busy_power\": 200, \"idle_power\": 100, \"cpu\": 2500},\n",
        "    #{\"name\": \"edge_node4\", \"speed\": 400, \"ram\": 16384, \"uplink\": 4096, \"downlink\": 4096, \"busy_power\": 250, \"idle_power\": 100, \"cpu\": 4000},\n",
        "]\n",
        "\n",
        "mappedNodes = []\n",
        "mplaced = []\n",
        "notPlacedPaths = []\n",
        "TimeOutmicroservice = []\n",
        "mapNodeToMicroservice = []"
      ],
      "metadata": {
        "id": "tYeq3Uy-fQis"
      },
      "execution_count": null,
      "outputs": []
    },
    {
      "cell_type": "code",
      "source": [
        "def mapNodeTomicroservice(node, microservice, mappedNodes):\n",
        "    \"\"\"\n",
        "    Maps a microservice to a node based on available resources and network latency\n",
        "    \"\"\"\n",
        "    for n in mappedNodes:\n",
        "        if n[0]['name'] == node['name']:\n",
        "            n[1].append(microservice)\n",
        "            return True\n",
        "    mappedNodes.append((node, [microservice]))\n",
        "    return True\n"
      ],
      "metadata": {
        "id": "zHPQzuyJgvgD"
      },
      "execution_count": null,
      "outputs": []
    },
    {
      "cell_type": "code",
      "source": [
        "def has_enough_resources(node, microservice):\n",
        "    if node['speed'] < microservice['cpu']:\n",
        "        return False\n",
        "    if node['ram'] < microservice['ram']:\n",
        "        return False\n",
        "    if node['uplink'] < microservice['input']:\n",
        "        return False\n",
        "    if node['downlink'] < microservice['output']:\n",
        "        return False\n",
        "    return True\n"
      ],
      "metadata": {
        "id": "ZXzhzEQeiAg_"
      },
      "execution_count": null,
      "outputs": []
    },
    {
      "cell_type": "code",
      "source": [
        "def get_power_usage(node: Dict[str, Union[int, float]]) -> float:\n",
        "    \"\"\"\n",
        "    Computes the power usage of a given node.\n",
        "\n",
        "    Parameters:\n",
        "    node (dict): A dictionary containing the details of a node.\n",
        "\n",
        "    Returns:\n",
        "    float: The power usage of the node.\n",
        "    \"\"\"\n",
        "    if node[\"status\"] == \"busy\":\n",
        "        return node[\"busy_power\"]\n",
        "    else:\n",
        "        return node[\"idle_power\"]\n",
        "\n",
        "\n",
        "def allocate_resources(node: Dict[str, Union[int, float]], microservice: Dict[str, Union[int, float]]) -> None:\n",
        "    \"\"\"\n",
        "    Allocates resources to a microservice on a given node.\n",
        "\n",
        "    Parameters:\n",
        "    node (dict): A dictionary containing the details of a node.\n",
        "    microservice (dict): A dictionary containing the details of a microservice.\n",
        "\n",
        "    Returns:\n",
        "    None.\n",
        "    \"\"\"\n",
        "    node[\"ram\"] -= microservice[\"ram\"]\n",
        "    node[\"cpu\"] -= microservice[\"cpu\"]\n",
        "    node[\"uplink\"] -= microservice[\"input\"]\n",
        "    node[\"downlink\"] -= microservice[\"output\"]\n",
        "    node[\"status\"] = \"busy\"\n"
      ],
      "metadata": {
        "id": "1ZMYHeqiktQ0"
      },
      "execution_count": null,
      "outputs": []
    },
    {
      "cell_type": "code",
      "source": [
        "def place_microservice_on_node(node, microservice, mappedNodes, mplaced, notPlacedPaths):\n",
        "    if has_enough_resources(node, microservice):\n",
        "        mappedNodes[node]['resources'] = allocate_resources(mappedNodes[node]['resources'], microservice)\n",
        "        mappedNodes[node]['microservices'].append(microservice['id'])\n",
        "        mappedNodes[node]['used_power'] += get_power_usage(node, microservice)\n",
        "        mplaced.append(microservice['id'])\n",
        "    else:\n",
        "        notPlacedPaths.append((microservice['id'], node['id']))\n"
      ],
      "metadata": {
        "id": "3_Bl-aeBiqAh"
      },
      "execution_count": null,
      "outputs": []
    },
    {
      "cell_type": "code",
      "source": [
        "#Get the Directed Acyclic Graph\n",
        "graph = nx.DiGraph()\n",
        "#graph = nx.MultiGraph()\n",
        "graph.add_edges_from([(\"microservice1\",\"microservice2\"),(\"microservice2\",\"microservice3\"),(\"microservice2\",\"microservice4\"),(\"microservice4\",\"microservice1\")])\n",
        "\n",
        "plt.tight_layout()\n",
        "nx.draw_networkx(graph, arrows = True)\n",
        "plt.savefig(\"g1.png\",format=\"PNG\")\n",
        "plt.clf()"
      ],
      "metadata": {
        "id": "5NA3YviWnGfw",
        "colab": {
          "base_uri": "https://localhost:8080/",
          "height": 34
        },
        "outputId": "3caabc6e-3f31-411d-e6ec-336bbccfe2da"
      },
      "execution_count": null,
      "outputs": [
        {
          "output_type": "display_data",
          "data": {
            "text/plain": [
              "<Figure size 640x480 with 0 Axes>"
            ]
          },
          "metadata": {}
        }
      ]
    },
    {
      "cell_type": "code",
      "source": [
        "# Initialize timer\n",
        "start_time = time.time()\n",
        "\n",
        "# Set timeout\n",
        "timeout = 120\n",
        "\n",
        "# While there are microservices to place and the timeout has not been reached\n",
        "while microservices and (time.time() - start_time < timeout):\n",
        "    next_microservice = microservices[0]\n",
        "\n",
        "    # Try to place the microservice on the next available node\n",
        "    for next_node in edge_nodes:\n",
        "        if has_enough_resources(next_node, next_microservice):\n",
        "            allocate_resources(next_node, next_microservice)\n",
        "            mapNodeTomicroservice(next_node, next_microservice, mappedNodes)\n",
        "            mappedNodes.append((next_microservice, next_node))\n",
        "            microservices.remove(next_microservice)\n",
        "            mplaced.append(next_microservice)\n",
        "            break\n",
        "\n",
        "    # If the microservice could not be placed, add it to the list of not placed microservices\n",
        "    if next_microservice in microservices:\n",
        "        notPlacedPaths.append(next_microservice)\n",
        "        microservices.remove(next_microservice)\n",
        "\n",
        "    # Iterate over not placed paths\n",
        "    while len(notPlacedPaths) > 0 and (time.time() - start_time < timeout):\n",
        "        for ms in notPlacedPaths:\n",
        "            if not has_enough_resources(next_node, ms):\n",
        "                continue\n",
        "            else:\n",
        "                allocate_resources(next_node, ms)\n",
        "                mapNodeTomicroservice(next_node, ms, mappedNodes)\n",
        "                mplaced.append(ms)\n",
        "                notPlacedPaths.remove(ms)\n",
        "\n",
        "# Calculate time taken\n",
        "elapsed_time = time.time() - start_time\n",
        "\n",
        "# Print the results\n",
        "print(f\"Placed microservices: {mplaced}\")\n",
        "print(f\"Not placed microservices: {notPlacedPaths}\")\n",
        "print(f\"Elapsed time: {elapsed_time}\")\n"
      ],
      "metadata": {
        "colab": {
          "base_uri": "https://localhost:8080/"
        },
        "id": "Yjwmmdqsq0PD",
        "outputId": "1465d928-8cc9-4451-e3ed-c5f0cfa9be01"
      },
      "execution_count": null,
      "outputs": [
        {
          "output_type": "stream",
          "name": "stdout",
          "text": [
            "Placed microservices: [{'name': 'microservice1', 'ram': 512, 'input': 256, 'output': 256, 'cpu': 50}, {'name': 'microservice2', 'ram': 1024, 'input': 512, 'output': 512, 'cpu': 100}, {'name': 'microservice3', 'ram': 2048, 'input': 1024, 'output': 1024, 'cpu': 200}]\n",
            "Not placed microservices: [{'name': 'microservice4', 'ram': 4096, 'input': 2048, 'output': 2048, 'cpu': 400}]\n",
            "Elapsed time: 120.00033736228943\n"
          ]
        }
      ]
    }
  ]
}