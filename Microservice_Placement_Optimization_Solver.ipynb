{
  "nbformat": 4,
  "nbformat_minor": 0,
  "metadata": {
    "colab": {
      "provenance": [],
      "authorship_tag": "ABX9TyN9A2XJIPmUUtSWXworLMcR",
      "include_colab_link": true
    },
    "kernelspec": {
      "name": "python3",
      "display_name": "Python 3"
    },
    "language_info": {
      "name": "python"
    }
  },
  "cells": [
    {
      "cell_type": "markdown",
      "metadata": {
        "id": "view-in-github",
        "colab_type": "text"
      },
      "source": [
        "<a href=\"https://colab.research.google.com/github/GArdennes/Research-Studies/blob/main/Microservice_Placement_Optimization_Solver.ipynb\" target=\"_parent\"><img src=\"https://colab.research.google.com/assets/colab-badge.svg\" alt=\"Open In Colab\"/></a>"
      ]
    },
    {
      "cell_type": "code",
      "source": [
        "pip install pulp"
      ],
      "metadata": {
        "id": "xasJlChD2GEw",
        "colab": {
          "base_uri": "https://localhost:8080/"
        },
        "outputId": "8591625d-9084-47a9-fcd4-0c7ab05cfe24"
      },
      "execution_count": null,
      "outputs": [
        {
          "output_type": "stream",
          "name": "stdout",
          "text": [
            "Looking in indexes: https://pypi.org/simple, https://us-python.pkg.dev/colab-wheels/public/simple/\n",
            "Collecting pulp\n",
            "  Downloading PuLP-2.7.0-py3-none-any.whl (14.3 MB)\n",
            "\u001b[2K     \u001b[90m━━━━━━━━━━━━━━━━━━━━━━━━━━━━━━━━━━━━━━━━\u001b[0m \u001b[32m14.3/14.3 MB\u001b[0m \u001b[31m76.8 MB/s\u001b[0m eta \u001b[36m0:00:00\u001b[0m\n",
            "\u001b[?25hInstalling collected packages: pulp\n",
            "Successfully installed pulp-2.7.0\n"
          ]
        }
      ]
    },
    {
      "cell_type": "code",
      "source": [
        "!apt-get install -y -qq glpk-utils"
      ],
      "metadata": {
        "colab": {
          "base_uri": "https://localhost:8080/"
        },
        "id": "kPspNz8SJrNB",
        "outputId": "2bed7cc4-9f94-434d-bc2f-1191e4970d65"
      },
      "execution_count": null,
      "outputs": [
        {
          "output_type": "stream",
          "name": "stdout",
          "text": [
            "Selecting previously unselected package libsuitesparseconfig5:amd64.\n",
            "(Reading database ... 122531 files and directories currently installed.)\n",
            "Preparing to unpack .../libsuitesparseconfig5_1%3a5.7.1+dfsg-2_amd64.deb ...\n",
            "Unpacking libsuitesparseconfig5:amd64 (1:5.7.1+dfsg-2) ...\n",
            "Selecting previously unselected package libamd2:amd64.\n",
            "Preparing to unpack .../libamd2_1%3a5.7.1+dfsg-2_amd64.deb ...\n",
            "Unpacking libamd2:amd64 (1:5.7.1+dfsg-2) ...\n",
            "Selecting previously unselected package libcolamd2:amd64.\n",
            "Preparing to unpack .../libcolamd2_1%3a5.7.1+dfsg-2_amd64.deb ...\n",
            "Unpacking libcolamd2:amd64 (1:5.7.1+dfsg-2) ...\n",
            "Selecting previously unselected package libglpk40:amd64.\n",
            "Preparing to unpack .../libglpk40_4.65-2_amd64.deb ...\n",
            "Unpacking libglpk40:amd64 (4.65-2) ...\n",
            "Selecting previously unselected package glpk-utils.\n",
            "Preparing to unpack .../glpk-utils_4.65-2_amd64.deb ...\n",
            "Unpacking glpk-utils (4.65-2) ...\n",
            "Setting up libsuitesparseconfig5:amd64 (1:5.7.1+dfsg-2) ...\n",
            "Setting up libamd2:amd64 (1:5.7.1+dfsg-2) ...\n",
            "Setting up libcolamd2:amd64 (1:5.7.1+dfsg-2) ...\n",
            "Setting up libglpk40:amd64 (4.65-2) ...\n",
            "Setting up glpk-utils (4.65-2) ...\n",
            "Processing triggers for man-db (2.9.1-1) ...\n",
            "Processing triggers for libc-bin (2.31-0ubuntu9.9) ...\n"
          ]
        }
      ]
    },
    {
      "cell_type": "code",
      "execution_count": null,
      "metadata": {
        "id": "txTGM9vi1dQn"
      },
      "outputs": [],
      "source": [
        "#import modules\n",
        "import pulp"
      ]
    },
    {
      "cell_type": "code",
      "source": [
        "# Define decision variables\n",
        "num_microservices = 4\n",
        "num_edge_nodes = 4\n",
        "x = pulp.LpVariable.dicts(\"x\", [(i,j) for i in range(num_microservices) for j in range(num_edge_nodes)], cat=pulp.LpBinary)\n",
        "t = pulp.LpVariable.dicts(\"t\", [(i,j) for i in range(num_microservices) for j in range(num_edge_nodes)], cat=pulp.LpContinuous)\n",
        "\n",
        "microservices = [\n",
        "    {\"name\": \"microservice1\", \"category\": \"1\", \"ram\": 512, \"input\": 256, \"output\": 256, \"cpu\": 50, \"dependencies\": []},\n",
        "    {\"name\": \"microservice2\", \"category\": \"2\", \"ram\": 1024, \"input\": 512, \"output\": 512, \"cpu\": 100, \"dependencies\": [\"microservice1\"]},\n",
        "    {\"name\": \"microservice3\", \"category\": \"1\",\"ram\": 2048, \"input\": 1024, \"output\": 1024, \"cpu\": 200, \"dependencies\": []},\n",
        "    {\"name\": \"microservice4\", \"category\": \"2\",\"ram\": 4096, \"input\": 2048, \"output\": 2048, \"cpu\": 400, \"dependencies\": []}\n",
        "]\n",
        "\n",
        "\n",
        "edge_nodes = [\n",
        "    {\"name\": \"edge_node1\", \"speed\": 100, \"ram\": 2048, \"uplink\": 512, \"downlink\": 512, \"busy_power\": 100, \"idle_power\": 50, \"cpu\": 1000},\n",
        "    {\"name\": \"edge_node2\", \"speed\": 200, \"ram\": 4096, \"uplink\": 1024, \"downlink\": 1024, \"busy_power\": 150, \"idle_power\": 75, \"cpu\": 2000},\n",
        "    {\"name\": \"edge_node3\", \"speed\": 300, \"ram\": 8192, \"uplink\": 2048, \"downlink\": 2048, \"busy_power\": 200, \"idle_power\": 100, \"cpu\": 2500},\n",
        "    {\"name\": \"edge_node4\", \"speed\": 400, \"ram\": 16384, \"uplink\": 4096, \"downlink\": 4096, \"busy_power\": 250, \"idle_power\": 100, \"cpu\": 4000}\n",
        "]\n",
        "\n",
        "dependencies = [\n",
        "    [0, 1, 1, 0],  # microservice 1 depends on 2 and 3\n",
        "    [0, 0, 0, 1],  # microservice 2 depends on 4\n",
        "    [0, 0, 0, 0],  # microservice 3 has no dependencies\n",
        "    [0, 0, 0, 0],  # microservice 4 has no dependencies\n",
        "]\n"
      ],
      "metadata": {
        "id": "HBltccDx1vGH"
      },
      "execution_count": null,
      "outputs": []
    },
    {
      "cell_type": "code",
      "source": [
        "# Set up problem\n",
        "problem = pulp.LpProblem(\"Microservice_Placement\", pulp.LpMinimize)"
      ],
      "metadata": {
        "id": "VRnkB35I2nJY"
      },
      "execution_count": null,
      "outputs": []
    },
    {
      "cell_type": "code",
      "source": [
        "#Define function\n",
        "def is_edge_node_available(microservice, edge_node):\n",
        "    if microservice[\"ram\"] > edge_node[\"ram\"]:\n",
        "        return False\n",
        "    if microservice[\"cpu\"] > edge_node[\"cpu\"]:\n",
        "        return False\n",
        "    if microservice[\"input\"] > edge_node[\"downlink\"]:\n",
        "        return False\n",
        "    if microservice[\"output\"] > edge_node[\"uplink\"]:\n",
        "        return False\n",
        "    return True\n"
      ],
      "metadata": {
        "id": "tK51PjBb5Hrm"
      },
      "execution_count": null,
      "outputs": []
    },
    {
      "cell_type": "code",
      "source": [
        "# Define objective function\n",
        "weights = {\"latency\": 0.5, \"throughput\": -0.5}  # hyperparameters\n",
        "latency = [[10, 20, 30, 40], [15, 25, 35, 45], [20, 30, 40, 50], [25, 35, 45, 55]]\n",
        "throughput = [[100, 200, 300, 400], [150, 250, 350, 450], [200, 300, 400, 500], [250, 350, 450, 550]]\n",
        "\n",
        "# Define objective function\n",
        "obj = pulp.lpSum([weights[\"latency\"] * latency[i][j] * x[(i,j)] + weights[\"throughput\"] * throughput[i][j] * x[(i,j)] for i in range(num_microservices) for j in range(num_edge_nodes)])\n",
        "problem += obj"
      ],
      "metadata": {
        "id": "rGG-Ux6b20b-"
      },
      "execution_count": null,
      "outputs": []
    },
    {
      "cell_type": "code",
      "source": [
        "# Constraint 1: Each microservice is placed on exactly one edge node\n",
        "for i in range(num_microservices):\n",
        "    problem += pulp.lpSum([x[(i,j)] for j in range(num_edge_nodes)]) == 1"
      ],
      "metadata": {
        "id": "Tv9tSsav22RO"
      },
      "execution_count": null,
      "outputs": []
    },
    {
      "cell_type": "code",
      "source": [
        "# Constraint 2: An edge node cannot exceed its resource capacity\n",
        "for j in range(num_edge_nodes):\n",
        "    problem += pulp.lpSum([microservices[i][\"ram\"] * x[(i,j)] for i in range(num_microservices)]) <= edge_nodes[j][\"ram\"]"
      ],
      "metadata": {
        "id": "BTHzpzlj29xv"
      },
      "execution_count": null,
      "outputs": []
    },
    {
      "cell_type": "code",
      "source": [
        "# Constraint 3: A microservice cannot be placed on an unavailable edge node\n",
        "for i in range(num_microservices):\n",
        "    for j in range(num_edge_nodes):\n",
        "        if not is_edge_node_available(microservices[i], edge_nodes[j]):\n",
        "            problem += x[(i,j)] == 0"
      ],
      "metadata": {
        "id": "3BSyD1UE4NZ0"
      },
      "execution_count": null,
      "outputs": []
    },
    {
      "cell_type": "code",
      "source": [
        "#Constraint 4: Dependencies between microservices\n",
        "for k in range(num_microservices):\n",
        "            if k != i:\n",
        "                # Microservices i and k cannot be placed on the same edge node if i depends on k\n",
        "                if k in microservices[i][\"dependencies\"]:\n",
        "                    problem += x[(i,j)] + x[(k,j)] <= 1"
      ],
      "metadata": {
        "id": "TaKYxmqb5NZz"
      },
      "execution_count": null,
      "outputs": []
    },
    {
      "cell_type": "code",
      "source": [
        "#Constraint 5: Recovery after timeout constraint\n",
        "timeout = [0.01, 0.02, 0.03, 0.04]\n",
        "for i in range(num_microservices):\n",
        "    for j in range(num_edge_nodes):\n",
        "        problem += t[(i,j)] >= x[(i,j)] * timeout[i], f\"Timeout{i}{j}\""
      ],
      "metadata": {
        "id": "wbL3rB3i9TzJ"
      },
      "execution_count": null,
      "outputs": []
    },
    {
      "cell_type": "code",
      "source": [
        "status = problem.solve(pulp.GLPK_CMD())"
      ],
      "metadata": {
        "id": "iO3ys9kr_tbP"
      },
      "execution_count": null,
      "outputs": []
    },
    {
      "cell_type": "code",
      "source": [
        "# Print the status of the solution\n",
        "print(\"Status:\", pulp.LpStatus[problem.status])"
      ],
      "metadata": {
        "colab": {
          "base_uri": "https://localhost:8080/"
        },
        "id": "GC1fdH5dLluW",
        "outputId": "973bf820-a2be-4cb8-dac4-459759e511ab"
      },
      "execution_count": null,
      "outputs": [
        {
          "output_type": "stream",
          "name": "stdout",
          "text": [
            "Status: Optimal\n"
          ]
        }
      ]
    },
    {
      "cell_type": "code",
      "source": [
        "# Print the value of the objective function\n",
        "print(\"Objective value:\", pulp.value(problem.objective))"
      ],
      "metadata": {
        "colab": {
          "base_uri": "https://localhost:8080/"
        },
        "id": "Z_7-uB2fLzG8",
        "outputId": "6c358ca8-3f67-4a56-9a97-8e9218e79b48"
      },
      "execution_count": null,
      "outputs": [
        {
          "output_type": "stream",
          "name": "stdout",
          "text": [
            "Objective value: -855.0\n"
          ]
        }
      ]
    },
    {
      "cell_type": "code",
      "source": [
        "# Print the decision variables\n",
        "for i in range(num_microservices):\n",
        "    for j in range(num_edge_nodes):\n",
        "        print(f\"x[{i},{j}] = {x[(i,j)].value()}, t[{i},{j}] = {t[(i,j)].value()}\")"
      ],
      "metadata": {
        "colab": {
          "base_uri": "https://localhost:8080/"
        },
        "id": "j35WHiWhL5g1",
        "outputId": "5ab2b8ad-cdf4-4202-8f6a-67c4fc2cd0fd"
      },
      "execution_count": null,
      "outputs": [
        {
          "output_type": "stream",
          "name": "stdout",
          "text": [
            "x[0,0] = 0, t[0,0] = 0.0\n",
            "x[0,1] = 0, t[0,1] = 0.0\n",
            "x[0,2] = 0, t[0,2] = 0.0\n",
            "x[0,3] = 1, t[0,3] = 0.01\n",
            "x[1,0] = 0, t[1,0] = 0.0\n",
            "x[1,1] = 0, t[1,1] = 0.0\n",
            "x[1,2] = 0, t[1,2] = 0.0\n",
            "x[1,3] = 1, t[1,3] = 0.02\n",
            "x[2,0] = 0, t[2,0] = 0.0\n",
            "x[2,1] = 0, t[2,1] = 0.0\n",
            "x[2,2] = 0, t[2,2] = 0.0\n",
            "x[2,3] = 1, t[2,3] = 0.03\n",
            "x[3,0] = 0, t[3,0] = 0.0\n",
            "x[3,1] = 0, t[3,1] = 0.0\n",
            "x[3,2] = 0, t[3,2] = 0.0\n",
            "x[3,3] = 1, t[3,3] = 0.04\n"
          ]
        }
      ]
    }
  ]
}