{
  "nbformat": 4,
  "nbformat_minor": 0,
  "metadata": {
    "colab": {
      "provenance": [],
      "mount_file_id": "1v9xW8-zV_OpAu8RYWVRdnAz9oHg3lotr",
      "authorship_tag": "ABX9TyPA1Ad1HVPiWQX88u5JbuD3",
      "include_colab_link": true
    },
    "kernelspec": {
      "name": "python3",
      "display_name": "Python 3"
    },
    "language_info": {
      "name": "python"
    }
  },
  "cells": [
    {
      "cell_type": "markdown",
      "metadata": {
        "id": "view-in-github",
        "colab_type": "text"
      },
      "source": [
        "<a href=\"https://colab.research.google.com/github/GArdennes/Research-Studies/blob/main/AUS_Customer_Service_Requests.ipynb\" target=\"_parent\"><img src=\"https://colab.research.google.com/assets/colab-badge.svg\" alt=\"Open In Colab\"/></a>"
      ]
    },
    {
      "cell_type": "code",
      "execution_count": null,
      "metadata": {
        "id": "74GM_TVypaYi"
      },
      "outputs": [],
      "source": [
        "import numpy as np\n",
        "import pandas as pd\n",
        "import matplotlib.pyplot as plt\n",
        "%matplotlib inline\n",
        "filepath = '/content/drive/MyDrive/DATA FOR RESEARCH/customer-service-requests-with-digital-channel-information_V02.xlsx'\n",
        "df = pd.read_excel(filepath)\n",
        "df.head()"
      ]
    },
    {
      "cell_type": "code",
      "source": [
        "#identify variables with null values\n",
        "df.isnull().any()"
      ],
      "metadata": {
        "colab": {
          "base_uri": "https://localhost:8080/"
        },
        "id": "NFl96wnJoIlU",
        "outputId": "d235495e-c2e4-4ea3-9950-78debae03f88"
      },
      "execution_count": null,
      "outputs": [
        {
          "output_type": "execute_result",
          "data": {
            "text/plain": [
              "service_type    False\n",
              "date_opened     False\n",
              "date_closed      True\n",
              "status          False\n",
              "case_origin     False\n",
              "suburb          False\n",
              "dtype: bool"
            ]
          },
          "metadata": {},
          "execution_count": 46
        }
      ]
    },
    {
      "cell_type": "code",
      "source": [
        "df.head()"
      ],
      "metadata": {
        "id": "WZGivh11rGvl"
      },
      "execution_count": null,
      "outputs": []
    },
    {
      "cell_type": "code",
      "source": [
        "#Display suburb names\n",
        "df['suburb'].unique()"
      ],
      "metadata": {
        "id": "PLpsg14ZrasL",
        "colab": {
          "base_uri": "https://localhost:8080/"
        },
        "outputId": "80137429-c133-4089-fc6d-d1c55d383915"
      },
      "execution_count": null,
      "outputs": [
        {
          "output_type": "execute_result",
          "data": {
            "text/plain": [
              "array(['Kensington', 'Melbourne', 'Carlton', 'Docklands',\n",
              "       'East Melbourne', 'Parkville', 'Southbank', 'West Melbourne',\n",
              "       'North Melbourne', 'South Yarra', 'South Wharf', 'carlton',\n",
              "       'Port Melbourne', 'Melbourne CBD', 'Kensignton', 'Princes Hill',\n",
              "       'Richmond', 'Southgate Promenade', 'West Melb', 'kensington',\n",
              "       'Carlton North', 'north melbourne', 'west melb', 'North melbourne',\n",
              "       'Deer Park', 'melbourne', 'Batman Ave', 'Fitzroy', 'MELBOURNE',\n",
              "       'North Adelaide', 'South Melbourne', 'Melb CBD', 'Jolimont',\n",
              "       'Flemington', 'Brunswick', 'Elizabeth', 'West melbourne',\n",
              "       'Royal Park', 'west melbourne', 'Prahran', 'Nth melbourne',\n",
              "       'CARLTON', 'EAST MELBOURNE', 'Reservoir'], dtype=object)"
            ]
          },
          "metadata": {},
          "execution_count": 47
        }
      ]
    },
    {
      "cell_type": "code",
      "source": [
        "#Change all suburb names to title format\n",
        "def to_title(suburb):\n",
        "  try:\n",
        "    suburb = suburb.title()\n",
        "    return suburb\n",
        "  except:\n",
        "    return np.nan\n",
        "\n",
        "df['suburb'] = df['suburb'].apply(to_title)\n",
        "df['suburb'].value_counts()\n"
      ],
      "metadata": {
        "colab": {
          "base_uri": "https://localhost:8080/"
        },
        "id": "PvcFqfG0rni5",
        "outputId": "1983aabf-238c-4ab8-e064-b4ecf3b780f9"
      },
      "execution_count": null,
      "outputs": [
        {
          "output_type": "execute_result",
          "data": {
            "text/plain": [
              "Melbourne              6778\n",
              "North Melbourne        2291\n",
              "Carlton                2136\n",
              "Kensington             1544\n",
              "West Melbourne         1380\n",
              "East Melbourne         1233\n",
              "Docklands              1150\n",
              "Southbank              1129\n",
              "Parkville              1070\n",
              "South Yarra             735\n",
              "Port Melbourne           35\n",
              "Melbourne Cbd            29\n",
              "Carlton North            24\n",
              "Princes Hill             12\n",
              "South Wharf              11\n",
              "Melb Cbd                 10\n",
              "Fitzroy                   8\n",
              "West Melb                 6\n",
              "Flemington                5\n",
              "South Melbourne           3\n",
              "Richmond                  2\n",
              "Elizabeth                 1\n",
              "Nth Melbourne             1\n",
              "Royal Park                1\n",
              "Prahran                   1\n",
              "Brunswick                 1\n",
              "Southgate Promenade       1\n",
              "Jolimont                  1\n",
              "North Adelaide            1\n",
              "Batman Ave                1\n",
              "Deer Park                 1\n",
              "Kensignton                1\n",
              "Reservoir                 1\n",
              "Name: suburb, dtype: int64"
            ]
          },
          "metadata": {},
          "execution_count": 48
        }
      ]
    },
    {
      "cell_type": "code",
      "source": [
        "#Count service types by suburb\n",
        "df.groupby(['suburb', 'service_type']).size()"
      ],
      "metadata": {
        "colab": {
          "base_uri": "https://localhost:8080/"
        },
        "id": "lkAUxIIsqxwy",
        "outputId": "46d7eef9-dfa0-45b8-d8e3-e4fff11557cf"
      },
      "execution_count": null,
      "outputs": [
        {
          "output_type": "execute_result",
          "data": {
            "text/plain": [
              "suburb          service_type                 \n",
              "Batman Ave      Graffiti Removal Request           1\n",
              "Brunswick       Infringement Review - Parking      1\n",
              "Carlton         Abandoned Vehicles                40\n",
              "                Graffiti Removal Request         477\n",
              "                Illegally Dumped Rubbish         406\n",
              "                                                ... \n",
              "West Melbourne  Ratepayer waste                   20\n",
              "                Request for Parking Officer      697\n",
              "                Rough Sleeping                    33\n",
              "                Syringe Management                12\n",
              "                Tree Maintenance Request          98\n",
              "Length: 136, dtype: int64"
            ]
          },
          "metadata": {},
          "execution_count": 40
        }
      ]
    },
    {
      "cell_type": "code",
      "source": [
        "#Disply frequency of overall complaint types\n",
        "df['service_type'].value_counts().plot(kind = 'bar', title = 'Overall Service Type Frequency')"
      ],
      "metadata": {
        "colab": {
          "base_uri": "https://localhost:8080/",
          "height": 439
        },
        "id": "CogWmuR9tA9A",
        "outputId": "3b1affc7-41a8-4cc5-c85b-0fb728af30f1"
      },
      "execution_count": null,
      "outputs": [
        {
          "output_type": "execute_result",
          "data": {
            "text/plain": [
              "<Axes: title={'center': 'Overall Service Type Frequency'}>"
            ]
          },
          "metadata": {},
          "execution_count": 49
        },
        {
          "output_type": "display_data",
          "data": {
            "text/plain": [
              "<Figure size 432x288 with 1 Axes>"
            ],
            "image/png": "[encoded data removed]"
          },
          "metadata": {
            "needs_background": "light"
          }
        }
      ]
    },
    {
      "cell_type": "code",
      "source": [
        "dc=df.dropna(subset=['suburb'], inplace=True)"
      ],
      "metadata": {
        "id": "CCai6cFV1cZu"
      },
      "execution_count": null,
      "outputs": []
    },
    {
      "cell_type": "code",
      "source": [
        "#Extract relevant features for analysis\n",
        "X = df[['suburb']]\n",
        "y = df['service_type']"
      ],
      "metadata": {
        "id": "7Di_wmCUzCqc"
      },
      "execution_count": null,
      "outputs": []
    },
    {
      "cell_type": "code",
      "source": [
        "X.isnull().sum()"
      ],
      "metadata": {
        "colab": {
          "base_uri": "https://localhost:8080/"
        },
        "id": "qGOvm-EUMMkL",
        "outputId": "6984db4c-a8e3-44b7-f749-15be9f192d66"
      },
      "execution_count": null,
      "outputs": [
        {
          "output_type": "execute_result",
          "data": {
            "text/plain": [
              "suburb    0\n",
              "dtype: int64"
            ]
          },
          "metadata": {},
          "execution_count": 52
        }
      ]
    },
    {
      "cell_type": "code",
      "source": [
        "y.isnull().sum()"
      ],
      "metadata": {
        "colab": {
          "base_uri": "https://localhost:8080/"
        },
        "id": "7rMIl7TwOC2G",
        "outputId": "d66be3a2-ca84-4b38-c7c1-7b45b3f1386e"
      },
      "execution_count": null,
      "outputs": [
        {
          "output_type": "execute_result",
          "data": {
            "text/plain": [
              "0"
            ]
          },
          "metadata": {},
          "execution_count": 53
        }
      ]
    },
    {
      "cell_type": "code",
      "source": [
        "X = X.fillna('Not Given')"
      ],
      "metadata": {
        "id": "WHRKaWH_3vCT"
      },
      "execution_count": null,
      "outputs": []
    },
    {
      "cell_type": "code",
      "source": [
        "#Encode the suburbs so that it can be used as input\n",
        "from sklearn.preprocessing import OneHotEncoder\n",
        "\n",
        "encoder = OneHotEncoder(handle_unknown='ignore')\n",
        "X_encoded = encoder.fit_transform(X)"
      ],
      "metadata": {
        "id": "16pRzogi0_hU"
      },
      "execution_count": null,
      "outputs": []
    },
    {
      "cell_type": "code",
      "source": [
        "#Split the data into training set and a testing set\n",
        "from sklearn.model_selection import train_test_split\n",
        "\n",
        "X_train, X_test, y_train, y_test = train_test_split(X_encoded, y, test_size = 0.2, random_state = 42)"
      ],
      "metadata": {
        "id": "g1zo8LqO1WQb"
      },
      "execution_count": null,
      "outputs": []
    },
    {
      "cell_type": "code",
      "source": [
        "#Decision Tree Classifier\n",
        "from sklearn.tree import DecisionTreeClassifier\n",
        "model = DecisionTreeClassifier()"
      ],
      "metadata": {
        "id": "ggEMzZZMPDLi"
      },
      "execution_count": null,
      "outputs": []
    },
    {
      "cell_type": "code",
      "source": [
        "#K-Nearest Neighbors (KNN) Classifier\n",
        "from sklearn.neighbors import KNeighborsClassifier\n",
        "model = KNeighborsClassifier()"
      ],
      "metadata": {
        "id": "DTDR2qF1DgeA"
      },
      "execution_count": null,
      "outputs": []
    },
    {
      "cell_type": "code",
      "source": [
        "#Logistic Regression\n",
        "from sklearn.linear_model import LogisticRegression\n",
        "model = LogisticRegression()"
      ],
      "metadata": {
        "id": "MNmEmTBwDqor"
      },
      "execution_count": null,
      "outputs": []
    },
    {
      "cell_type": "code",
      "source": [
        "#Random Forest Classifier\n",
        "from sklearn.ensemble import RandomForestClassifier\n",
        "model = RandomForestClassifier()"
      ],
      "metadata": {
        "id": "OTOp99nXz-bW"
      },
      "execution_count": null,
      "outputs": []
    },
    {
      "cell_type": "code",
      "source": [
        "#Support Vector Machine (SVM)\n",
        "from sklearn.svm import SVC\n",
        "model = SVC()"
      ],
      "metadata": {
        "id": "mRecn9E_EoDk"
      },
      "execution_count": null,
      "outputs": []
    },
    {
      "cell_type": "code",
      "source": [
        "#Training the model using the training set\n",
        "model.fit(X_train, y_train)"
      ],
      "metadata": {
        "id": "j4KwSC2I2H-O"
      },
      "execution_count": null,
      "outputs": []
    },
    {
      "cell_type": "code",
      "source": [
        "# Predict the target values of the test data\n",
        "y_pred = model.predict(X_test)"
      ],
      "metadata": {
        "id": "MklDRoorRb8q"
      },
      "execution_count": null,
      "outputs": []
    },
    {
      "cell_type": "code",
      "source": [
        "# Evaluate the accuracy of the classifier\n",
        "from sklearn.metrics import accuracy_score\n",
        "\n",
        "accuracy = accuracy_score(y_test, y_pred)\n",
        "print('Accuracy:', accuracy)"
      ],
      "metadata": {
        "colab": {
          "base_uri": "https://localhost:8080/"
        },
        "id": "pMJ0I21ERlbG",
        "outputId": "e6d401d1-61ed-4083-b20a-93f1815c795e"
      },
      "execution_count": null,
      "outputs": [
        {
          "output_type": "stream",
          "name": "stdout",
          "text": [
            "Accuracy: 0.4516704922213721\n"
          ]
        }
      ]
    }
  ]
}